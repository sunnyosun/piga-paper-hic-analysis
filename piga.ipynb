{
 "cells": [
  {
   "cell_type": "markdown",
   "metadata": {},
   "source": [
    "# convert downloaded hic matrix to formated txt file"
   ]
  },
  {
   "cell_type": "code",
   "execution_count": 2,
   "metadata": {},
   "outputs": [],
   "source": [
    "# Modules\n",
    "\n",
    "# import regular expression module\n",
    "import re\n",
    "\n",
    "# import sys module\n",
    "import sys\n",
    "\n",
    "from Bio import SeqIO\n",
    "from Bio.Seq import Seq\n",
    "from Bio.Alphabet import generic_dna\n",
    "import pandas as pd\n",
    "import math"
   ]
  },
  {
   "cell_type": "code",
   "execution_count": null,
   "metadata": {},
   "outputs": [],
   "source": [
    "# function\n",
    "def convert_to_format(hic_filename, res, chromosome):\n",
    "    data=pd.read_csv(hic_filename,sep='\\t',header=None)\n",
    "    data=data[data[2].isnull()==False]\n",
    "    tmp=data[0]+res\n",
    "    data[0] = data[0].astype(str)+'_'+ tmp.astype(str)\n",
    "    tmp=data[1]+res\n",
    "    data[1] = data[1].astype(str)+'_'+ tmp.astype(str)\n",
    "    chrs=[str(chromosome)]*data.shape[0]\n",
    "    data2=pd.DataFrame()\n",
    "    data2['chr']=chrs\n",
    "    data2['bin1']=data[0]\n",
    "    data2['bin2']=data[1]\n",
    "    data2['score']=data[2]\n",
    "    data2=data2[data2['score'].isnull()==False]\n",
    "    data2.to_csv(hic_filename+'_format.txt',sep='\\t',header=None,index=False)\n",
    "    "
   ]
  },
  {
   "cell_type": "code",
   "execution_count": null,
   "metadata": {},
   "outputs": [],
   "source": [
    "# running the function\n",
    "\n",
    "hic_filename='../../../../../Volumes/My_Book_for_Mac/piga/HCT116_chrX_25kb_KR.txt'\n",
    "res=25000\n",
    "chromsome='chrX'\n",
    "convert_to_format(hic_filename,res,chromosome)\n"
   ]
  },
  {
   "cell_type": "code",
   "execution_count": null,
   "metadata": {},
   "outputs": [],
   "source": []
  },
  {
   "cell_type": "code",
   "execution_count": 3,
   "metadata": {},
   "outputs": [],
   "source": [
    "# read in hic data\n",
    "hic_filename='../../../../../Volumes/My_Book_for_Mac/piga/HCT116_chrX_25kb_KR.txt'\n",
    "data=pd.read_csv(hic_filename,sep='\\t',header=None)"
   ]
  },
  {
   "cell_type": "code",
   "execution_count": 4,
   "metadata": {},
   "outputs": [],
   "source": [
    "# remove na\n",
    "data=data[data[2].isnull()==False]"
   ]
  },
  {
   "cell_type": "code",
   "execution_count": 5,
   "metadata": {},
   "outputs": [
    {
     "data": {
      "text/html": [
       "<div>\n",
       "<style scoped>\n",
       "    .dataframe tbody tr th:only-of-type {\n",
       "        vertical-align: middle;\n",
       "    }\n",
       "\n",
       "    .dataframe tbody tr th {\n",
       "        vertical-align: top;\n",
       "    }\n",
       "\n",
       "    .dataframe thead th {\n",
       "        text-align: right;\n",
       "    }\n",
       "</style>\n",
       "<table border=\"1\" class=\"dataframe\">\n",
       "  <thead>\n",
       "    <tr style=\"text-align: right;\">\n",
       "      <th></th>\n",
       "      <th>0</th>\n",
       "      <th>1</th>\n",
       "      <th>2</th>\n",
       "    </tr>\n",
       "  </thead>\n",
       "  <tbody>\n",
       "    <tr>\n",
       "      <th>0</th>\n",
       "      <td>50000</td>\n",
       "      <td>50000</td>\n",
       "      <td>737.061218</td>\n",
       "    </tr>\n",
       "    <tr>\n",
       "      <th>1</th>\n",
       "      <td>50000</td>\n",
       "      <td>75000</td>\n",
       "      <td>211.011719</td>\n",
       "    </tr>\n",
       "    <tr>\n",
       "      <th>2</th>\n",
       "      <td>75000</td>\n",
       "      <td>75000</td>\n",
       "      <td>1147.791992</td>\n",
       "    </tr>\n",
       "    <tr>\n",
       "      <th>4</th>\n",
       "      <td>50000</td>\n",
       "      <td>150000</td>\n",
       "      <td>103.591118</td>\n",
       "    </tr>\n",
       "    <tr>\n",
       "      <th>5</th>\n",
       "      <td>75000</td>\n",
       "      <td>150000</td>\n",
       "      <td>33.145931</td>\n",
       "    </tr>\n",
       "  </tbody>\n",
       "</table>\n",
       "</div>"
      ],
      "text/plain": [
       "       0       1            2\n",
       "0  50000   50000   737.061218\n",
       "1  50000   75000   211.011719\n",
       "2  75000   75000  1147.791992\n",
       "4  50000  150000   103.591118\n",
       "5  75000  150000    33.145931"
      ]
     },
     "execution_count": 5,
     "metadata": {},
     "output_type": "execute_result"
    }
   ],
   "source": [
    "data.head()"
   ]
  },
  {
   "cell_type": "code",
   "execution_count": 6,
   "metadata": {},
   "outputs": [],
   "source": [
    "res=25000\n",
    "tmp=data[0]+res\n",
    "data[0] = data[0].astype(str)+'_'+ tmp.astype(str)"
   ]
  },
  {
   "cell_type": "code",
   "execution_count": 7,
   "metadata": {},
   "outputs": [],
   "source": [
    "res=25000\n",
    "tmp=data[1]+res\n",
    "data[1] = data[1].astype(str)+'_'+ tmp.astype(str)"
   ]
  },
  {
   "cell_type": "code",
   "execution_count": 8,
   "metadata": {},
   "outputs": [],
   "source": [
    "chrs=['chrX']*data.shape[0]"
   ]
  },
  {
   "cell_type": "code",
   "execution_count": 9,
   "metadata": {},
   "outputs": [],
   "source": [
    "data2=pd.DataFrame()\n",
    "data2['chr']=chrs\n",
    "data2['bin1']=data[0]\n",
    "data2['bin2']=data[1]\n",
    "data2['score']=data[2]"
   ]
  },
  {
   "cell_type": "code",
   "execution_count": 10,
   "metadata": {},
   "outputs": [],
   "source": [
    "data2=data2[data2['score'].isnull()==False]"
   ]
  },
  {
   "cell_type": "code",
   "execution_count": 11,
   "metadata": {},
   "outputs": [],
   "source": [
    "data2.to_csv('../../../../../Volumes/My_Book_for_Mac/piga/HCT116_chrX_KR_25kb_format.txt',sep='\\t',header=None,index=False)"
   ]
  },
  {
   "cell_type": "code",
   "execution_count": 12,
   "metadata": {},
   "outputs": [
    {
     "data": {
      "text/html": [
       "<div>\n",
       "<style scoped>\n",
       "    .dataframe tbody tr th:only-of-type {\n",
       "        vertical-align: middle;\n",
       "    }\n",
       "\n",
       "    .dataframe tbody tr th {\n",
       "        vertical-align: top;\n",
       "    }\n",
       "\n",
       "    .dataframe thead th {\n",
       "        text-align: right;\n",
       "    }\n",
       "</style>\n",
       "<table border=\"1\" class=\"dataframe\">\n",
       "  <thead>\n",
       "    <tr style=\"text-align: right;\">\n",
       "      <th></th>\n",
       "      <th>chr</th>\n",
       "      <th>bin1</th>\n",
       "      <th>bin2</th>\n",
       "      <th>score</th>\n",
       "    </tr>\n",
       "  </thead>\n",
       "  <tbody>\n",
       "    <tr>\n",
       "      <th>0</th>\n",
       "      <td>chrX</td>\n",
       "      <td>50000_75000</td>\n",
       "      <td>50000_75000</td>\n",
       "      <td>737.061218</td>\n",
       "    </tr>\n",
       "    <tr>\n",
       "      <th>1</th>\n",
       "      <td>chrX</td>\n",
       "      <td>50000_75000</td>\n",
       "      <td>75000_100000</td>\n",
       "      <td>211.011719</td>\n",
       "    </tr>\n",
       "    <tr>\n",
       "      <th>2</th>\n",
       "      <td>chrX</td>\n",
       "      <td>75000_100000</td>\n",
       "      <td>75000_100000</td>\n",
       "      <td>1147.791992</td>\n",
       "    </tr>\n",
       "    <tr>\n",
       "      <th>4</th>\n",
       "      <td>chrX</td>\n",
       "      <td>50000_75000</td>\n",
       "      <td>150000_175000</td>\n",
       "      <td>103.591118</td>\n",
       "    </tr>\n",
       "    <tr>\n",
       "      <th>5</th>\n",
       "      <td>chrX</td>\n",
       "      <td>75000_100000</td>\n",
       "      <td>150000_175000</td>\n",
       "      <td>33.145931</td>\n",
       "    </tr>\n",
       "  </tbody>\n",
       "</table>\n",
       "</div>"
      ],
      "text/plain": [
       "    chr          bin1           bin2        score\n",
       "0  chrX   50000_75000    50000_75000   737.061218\n",
       "1  chrX   50000_75000   75000_100000   211.011719\n",
       "2  chrX  75000_100000   75000_100000  1147.791992\n",
       "4  chrX   50000_75000  150000_175000   103.591118\n",
       "5  chrX  75000_100000  150000_175000    33.145931"
      ]
     },
     "execution_count": 12,
     "metadata": {},
     "output_type": "execute_result"
    }
   ],
   "source": [
    "data2.head()"
   ]
  },
  {
   "cell_type": "code",
   "execution_count": null,
   "metadata": {},
   "outputs": [],
   "source": []
  }
 ],
 "metadata": {
  "kernelspec": {
   "display_name": "Python 3",
   "language": "python",
   "name": "python3"
  },
  "language_info": {
   "codemirror_mode": {
    "name": "ipython",
    "version": 3
   },
   "file_extension": ".py",
   "mimetype": "text/x-python",
   "name": "python",
   "nbconvert_exporter": "python",
   "pygments_lexer": "ipython3",
   "version": "3.6.5"
  }
 },
 "nbformat": 4,
 "nbformat_minor": 2
}
